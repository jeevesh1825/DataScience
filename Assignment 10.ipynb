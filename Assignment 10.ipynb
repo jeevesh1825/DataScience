{
 "cells": [
  {
   "cell_type": "code",
   "execution_count": 7,
   "id": "2ae7baa5",
   "metadata": {},
   "outputs": [
    {
     "data": {
      "text/plain": [
       "array([6.5])"
      ]
     },
     "execution_count": 7,
     "metadata": {},
     "output_type": "execute_result"
    }
   ],
   "source": [
    "import numpy as np\n",
    "x=np.arange(10).reshape(5,2)\n",
    "y=range(5)\n",
    "\n",
    "from sklearn.model_selection import train_test_split\n",
    "\n",
    "x_train,x_test,y_train,y_test = train_test_split(x,y)\n",
    "from sklearn.linear_model import LinearRegression\n",
    "model = LinearRegression()\n",
    "model.fit(x_train,y_train)\n",
    "model.predict([[13,14]])"
   ]
  },
  {
   "cell_type": "code",
   "execution_count": 8,
   "id": "7b801b1f",
   "metadata": {},
   "outputs": [],
   "source": [
    "import pickle\n",
    "\n",
    "with open ('LRmodel.pkl', 'wb') as f:\n",
    "    pickle.dump(model,f)"
   ]
  },
  {
   "cell_type": "code",
   "execution_count": 10,
   "id": "12bea91c",
   "metadata": {},
   "outputs": [],
   "source": [
    "with open ('LRmodel.pkl','rb') as f:\n",
    "    saved_model = pickle.load(f)"
   ]
  },
  {
   "cell_type": "code",
   "execution_count": 11,
   "id": "96c691f4",
   "metadata": {},
   "outputs": [
    {
     "data": {
      "text/plain": [
       "LinearRegression()"
      ]
     },
     "execution_count": 11,
     "metadata": {},
     "output_type": "execute_result"
    }
   ],
   "source": [
    "saved_model"
   ]
  },
  {
   "cell_type": "code",
   "execution_count": 14,
   "id": "c61916e9",
   "metadata": {},
   "outputs": [
    {
     "data": {
      "text/plain": [
       "array([5.])"
      ]
     },
     "execution_count": 14,
     "metadata": {},
     "output_type": "execute_result"
    }
   ],
   "source": [
    "saved_model.predict([[10,11]])"
   ]
  },
  {
   "cell_type": "code",
   "execution_count": 17,
   "id": "045debab",
   "metadata": {},
   "outputs": [
    {
     "data": {
      "text/plain": [
       "array([0.5])"
      ]
     },
     "execution_count": 17,
     "metadata": {},
     "output_type": "execute_result"
    }
   ],
   "source": [
    "import joblib\n",
    "\n",
    "f1 = 'LRmodel.sav'\n",
    "joblib.dump(model,f1)\n",
    "\n",
    "joblib_model = joblib.load(f1)\n",
    "\n",
    "joblib_model.predict([[1,2]])"
   ]
  },
  {
   "cell_type": "code",
   "execution_count": null,
   "id": "c2a5719c",
   "metadata": {},
   "outputs": [
    {
     "name": "stdout",
     "output_type": "stream",
     "text": [
      " * Serving Flask app '__main__'\n",
      " * Debug mode: off\n"
     ]
    },
    {
     "name": "stderr",
     "output_type": "stream",
     "text": [
      "WARNING: This is a development server. Do not use it in a production deployment. Use a production WSGI server instead.\n",
      " * Running on all addresses (0.0.0.0)\n",
      " * Running on http://127.0.0.1:106\n",
      " * Running on http://192.168.196.184:106\n",
      "Press CTRL+C to quit\n"
     ]
    }
   ],
   "source": [
    "from flask import Flask,jsonify,request\n",
    "import pickle\n",
    "\n",
    "app = Flask(__name__)\n",
    "\n",
    "@app.route('/')\n",
    "def hello():\n",
    "    return \"Hello World\"\n",
    "\n",
    "@app.route('/<int:x>/')\n",
    "def x(x):\n",
    "    print(x)\n",
    "\n",
    "\n",
    "\n",
    "\n",
    "def check ():\n",
    "    print (x1,\"---\",x2)\n",
    "    fp=open('LRmodel.pkl','rb')\n",
    "    saved_model = pickle.load(fp)\n",
    "    \n",
    "    predictedY = saved_model.predict([[10,11]])\n",
    "    print(\"Output is \",predictedY)\n",
    "    return \"Y : \"+str(predictedY[0])\n",
    "\n",
    "\n",
    "app.run(host=\"0.0.0.0\", port=106)"
   ]
  },
  {
   "cell_type": "code",
   "execution_count": 10,
   "id": "46245b33",
   "metadata": {},
   "outputs": [
    {
     "name": "stdout",
     "output_type": "stream",
     "text": [
      "10 --- 11\n",
      "Output is  [5.]\n"
     ]
    },
    {
     "data": {
      "text/plain": [
       "'Y : 5.0'"
      ]
     },
     "execution_count": 10,
     "metadata": {},
     "output_type": "execute_result"
    }
   ],
   "source": [
    "\n",
    "def check (x1,x2):\n",
    "    \n",
    "    print (x1,\"---\",x2)\n",
    "    fp=open('LRmodel.pkl','rb')\n",
    "    saved_model = pickle.load(fp)\n",
    "    \n",
    "    predictedY = saved_model.predict([[x1,x2]])\n",
    "    print(\"Output is \",predictedY)\n",
    "    return \"Y : \"+str(predictedY[0])\n",
    "\n",
    "check(10,11)"
   ]
  },
  {
   "cell_type": "code",
   "execution_count": null,
   "id": "46769364",
   "metadata": {},
   "outputs": [],
   "source": []
  }
 ],
 "metadata": {
  "kernelspec": {
   "display_name": "Python 3 (ipykernel)",
   "language": "python",
   "name": "python3"
  },
  "language_info": {
   "codemirror_mode": {
    "name": "ipython",
    "version": 3
   },
   "file_extension": ".py",
   "mimetype": "text/x-python",
   "name": "python",
   "nbconvert_exporter": "python",
   "pygments_lexer": "ipython3",
   "version": "3.9.12"
  }
 },
 "nbformat": 4,
 "nbformat_minor": 5
}
